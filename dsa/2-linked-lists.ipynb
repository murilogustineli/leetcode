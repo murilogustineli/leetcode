{
 "cells": [
  {
   "cell_type": "markdown",
   "id": "7a682b66",
   "metadata": {},
   "source": [
    "# 2. Linked Lists\n",
    "A linked list is another data structure that is like an array in the sense that it stores elements in an ordered sequence. But there are also some key differences.\n",
    "\n",
    "The main difference is that linked lists are made up of objects called `ListNode`'s. This object contains two attributes:\n",
    "1. `value` – This stores the value of the node. It could be a character, an integer, etc.\n",
    "2. `next` – This stores the reference to the next node in the linked list. The picture below visualizes the `ListNode` object.\n",
    "\n",
    "By chaining these ListNode objects together we can build a linked list. We start with a ListNode class:"
   ]
  },
  {
   "cell_type": "code",
   "execution_count": 1,
   "id": "69a35ae5",
   "metadata": {},
   "outputs": [],
   "source": [
    "class ListNode:\n",
    "    def __init__(self, val=0, next=None):\n",
    "        self.val = val\n",
    "        self.next = next"
   ]
  },
  {
   "cell_type": "markdown",
   "id": "c61af47a",
   "metadata": {},
   "source": [
    "Using the `next` pointer of each, we can connect the nodes together. Suppose that we have three `ListNode` objects – `ListNode1`, `ListNode2`, `ListNode3`."
   ]
  },
  {
   "cell_type": "code",
   "execution_count": 21,
   "id": "0ac9e1b4",
   "metadata": {},
   "outputs": [],
   "source": [
    "ln1 = ListNode(1)\n",
    "ln2 = ListNode(2)\n",
    "ln3 = ListNode(3)\n",
    "\n",
    "ln1.next = ln2\n",
    "ln2.next = ln3"
   ]
  },
  {
   "cell_type": "markdown",
   "id": "7c5ca773",
   "metadata": {},
   "source": [
    "### Traversal \n",
    "To traverse a linked list from beginning to end, we can just make use of a simple while loop."
   ]
  },
  {
   "cell_type": "code",
   "execution_count": 22,
   "id": "c6351351",
   "metadata": {},
   "outputs": [
    {
     "name": "stdout",
     "output_type": "stream",
     "text": [
      "1\n",
      "2\n",
      "3\n"
     ]
    }
   ],
   "source": [
    "cur = ln1\n",
    "while cur:\n",
    "    print(cur.val)\n",
    "    cur = cur.next"
   ]
  },
  {
   "cell_type": "markdown",
   "id": "c13ef82d",
   "metadata": {},
   "source": [
    "### explanation\n",
    "\n",
    "1. We start the traversal at the head of the list, which is `ListNode1`.\n",
    "2. We assign it to a variable `cur`, denoting the current node we are at.\n",
    "3. We execute the while loop until we reach the end of the list which is `null`.\n",
    "4. In each iteration, we update `cur` to be the next node in the list by setting `cur = cur.next`.\n",
    "5. The traversal runs in $O(n)$ time where $n$ is the number of nodes in the linked list."
   ]
  },
  {
   "cell_type": "markdown",
   "id": "acf1b40f",
   "metadata": {},
   "source": [
    "## Operations of a Singly Linked List\n",
    "\n",
    "Linked Lists have a `head`, and a `tail` pointer. The `head` pointer points to the very first node in the linked list, `ListNode1`, and the `tail` pointer points to the very last node — `ListNode3`. If there is only one node in the Linked List, the `head` and the `tail` point to the same node.\n",
    "\n",
    "An advantage that Linked Lists have over arrays is that inserting a new element can be performed in $O(1)$ time, even if we insert in the middle.\n",
    "\n",
    "We do not have to shift any elements since there is no requirement for the elements to be stored contiguously in memory.\n",
    "\n",
    "> This assumes we already have a reference to the node at the desired position we want to insert. If we have to traverse the list to arrive at the insertion point, the operation would take $O(n)$ time.\n",
    "\n",
    "If we wanted to append a `ListNode4` to the end of the list, we would be appending to the tail. Once `ListNode4` is appended, we update our tail pointer to be at `ListNode4`. This operation would be done in $O(1)$ time since it is only one operation. The steps would look like the following, with code."
   ]
  },
  {
   "cell_type": "code",
   "execution_count": 23,
   "id": "da22406e",
   "metadata": {},
   "outputs": [
    {
     "name": "stdout",
     "output_type": "stream",
     "text": [
      "4\n",
      "4\n"
     ]
    }
   ],
   "source": [
    "tail = ln3\n",
    "tail.next = ListNode(4)\n",
    "print(ln3.next.val)  # Should print 4\n",
    "\n",
    "tail = tail.next\n",
    "print(tail.val)  # Should print 4"
   ]
  },
  {
   "cell_type": "markdown",
   "id": "5539be24",
   "metadata": {},
   "source": [
    "## Deleting from a Singly Linked List\n",
    "\n",
    "Deleting a node from a singly linked list will take $O(1)$ since we can accomplish this by updating a single pointer.\n",
    "\n",
    "> This assumes we already have a reference to the node at the desired position we want to delete. If we have to traverse the list to arrive at the deletion point, the operation would take $O(n)$ time.\n",
    "\n",
    "Suppose we want to delete `ListNode2`. Currently, our `head` points to `ListNode1`, and `head.next` points to `ListNode2`. We can update our `head.next` pointer to `ListNode3`, which can be accessed by chaining `next` pointers like `head.next.next`. This makes sense since `head.next` is `ListNode2`, and logically, `head.next.next` would be `ListNode3`."
   ]
  },
  {
   "cell_type": "code",
   "execution_count": 24,
   "id": "3a56c61b",
   "metadata": {},
   "outputs": [
    {
     "name": "stdout",
     "output_type": "stream",
     "text": [
      "1\n",
      "3\n"
     ]
    }
   ],
   "source": [
    "head = ln1\n",
    "print(head.val)  # Should print 1\n",
    "\n",
    "# delete ListNode2\n",
    "head.next = head.next.next\n",
    "print(head.next.val)  # Should print 3"
   ]
  },
  {
   "cell_type": "markdown",
   "id": "9c55ccce",
   "metadata": {},
   "source": [
    "**Before:** ListNode1 --> ListNode2 --> ListNode3 --> ListNode4\n",
    "\n",
    "**After:** ListNode1 --> ListNode3 --> ListNode4\n",
    "\n",
    "> It can be assumed that the memory occupied by `ListNode2` will be cleared via garbage collection in most languages. In other languages like C, you would have to manually free the memory.\n",
    "\n",
    "## Time Complexity\n",
    "| **operation** | **Big-O time complexity** | **note** |\n",
    "| --- | --- | --- |\n",
    "| access | $O(n)$ |  |\n",
    "| search | $O(n)$ |  |\n",
    "| insertion | $O(1)^*$ | assuming you already have a reference to the node at the desired position |\n",
    "| deletion | $O(1)^*$ | assuming you already have a reference to the node at the desired position |"
   ]
  },
  {
   "cell_type": "code",
   "execution_count": null,
   "id": "8dc84a04",
   "metadata": {},
   "outputs": [],
   "source": []
  }
 ],
 "metadata": {
  "kernelspec": {
   "display_name": ".venv",
   "language": "python",
   "name": "python3"
  },
  "language_info": {
   "codemirror_mode": {
    "name": "ipython",
    "version": 3
   },
   "file_extension": ".py",
   "mimetype": "text/x-python",
   "name": "python",
   "nbconvert_exporter": "python",
   "pygments_lexer": "ipython3",
   "version": "3.9.6"
  }
 },
 "nbformat": 4,
 "nbformat_minor": 5
}
