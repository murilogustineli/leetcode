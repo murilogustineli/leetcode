{
 "cells": [
  {
   "cell_type": "markdown",
   "id": "7a682b66",
   "metadata": {},
   "source": [
    "# 2. Linked Lists\n",
    "A linked list is another data structure that is like an array in the sense that it stores elements in an ordered sequence. But there are also some key differences.\n",
    "\n",
    "The main difference is that linked lists are made up of objects called `ListNode`'s. This object contains two attributes:\n",
    "1. `value` – This stores the value of the node. It could be a character, an integer, etc.\n",
    "2. `next` – This stores the reference to the next node in the linked list. The picture below visualizes the `ListNode` object.\n",
    "\n",
    "By chaining these ListNode objects together we can build a linked list. We start with a ListNode class:"
   ]
  },
  {
   "cell_type": "code",
   "execution_count": 1,
   "id": "69a35ae5",
   "metadata": {},
   "outputs": [],
   "source": [
    "class ListNode:\n",
    "    def __init__(self, val=0, next=None):\n",
    "        self.val = val\n",
    "        self.next = next"
   ]
  },
  {
   "cell_type": "markdown",
   "id": "c61af47a",
   "metadata": {},
   "source": [
    "Using the `next` pointer of each, we can connect the nodes together. Suppose that we have three `ListNode` objects – `ListNode1`, `ListNode2`, `ListNode3`."
   ]
  },
  {
   "cell_type": "code",
   "execution_count": 2,
   "id": "0ac9e1b4",
   "metadata": {},
   "outputs": [],
   "source": [
    "ln1 = ListNode(1)\n",
    "ln2 = ListNode(2)\n",
    "ln3 = ListNode(3)\n",
    "\n",
    "ln1.next = ln2\n",
    "ln2.next = ln3"
   ]
  },
  {
   "cell_type": "markdown",
   "id": "7c5ca773",
   "metadata": {},
   "source": [
    "### Traversal \n",
    "To traverse a linked list from beginning to end, we can just make use of a simple while loop."
   ]
  },
  {
   "cell_type": "code",
   "execution_count": 3,
   "id": "c6351351",
   "metadata": {},
   "outputs": [
    {
     "name": "stdout",
     "output_type": "stream",
     "text": [
      "1\n",
      "2\n",
      "3\n"
     ]
    }
   ],
   "source": [
    "cur = ln1\n",
    "while cur:\n",
    "    print(cur.val)\n",
    "    cur = cur.next"
   ]
  },
  {
   "cell_type": "markdown",
   "id": "c13ef82d",
   "metadata": {},
   "source": [
    "### explanation\n",
    "\n",
    "1. We start the traversal at the head of the list, which is `ListNode1`.\n",
    "2. We assign it to a variable `cur`, denoting the current node we are at.\n",
    "3. We execute the while loop until we reach the end of the list which is `null`.\n",
    "4. In each iteration, we update `cur` to be the next node in the list by setting `cur = cur.next`.\n",
    "5. The traversal runs in $O(n)$ time where $n$ is the number of nodes in the linked list."
   ]
  },
  {
   "cell_type": "markdown",
   "id": "acf1b40f",
   "metadata": {},
   "source": [
    "## Operations of a Singly Linked List\n",
    "\n",
    "Linked Lists have a `head`, and a `tail` pointer. The `head` pointer points to the very first node in the linked list, `ListNode1`, and the `tail` pointer points to the very last node — `ListNode3`. If there is only one node in the Linked List, the `head` and the `tail` point to the same node.\n",
    "\n",
    "An advantage that Linked Lists have over arrays is that inserting a new element can be performed in $O(1)$ time, even if we insert in the middle.\n",
    "\n",
    "We do not have to shift any elements since there is no requirement for the elements to be stored contiguously in memory.\n",
    "\n",
    "> This assumes we already have a reference to the node at the desired position we want to insert. If we have to traverse the list to arrive at the insertion point, the operation would take $O(n)$ time.\n",
    "\n",
    "If we wanted to append a `ListNode4` to the end of the list, we would be appending to the tail. Once `ListNode4` is appended, we update our tail pointer to be at `ListNode4`. This operation would be done in $O(1)$ time since it is only one operation. The steps would look like the following, with code."
   ]
  },
  {
   "cell_type": "code",
   "execution_count": 4,
   "id": "da22406e",
   "metadata": {},
   "outputs": [
    {
     "name": "stdout",
     "output_type": "stream",
     "text": [
      "4\n",
      "4\n"
     ]
    }
   ],
   "source": [
    "tail = ln3\n",
    "tail.next = ListNode(4)\n",
    "print(ln3.next.val)  # Should print 4\n",
    "\n",
    "tail = tail.next\n",
    "print(tail.val)  # Should print 4"
   ]
  },
  {
   "cell_type": "markdown",
   "id": "5539be24",
   "metadata": {},
   "source": [
    "## Deleting from a Singly Linked List\n",
    "\n",
    "Deleting a node from a singly linked list will take $O(1)$ since we can accomplish this by updating a single pointer.\n",
    "\n",
    "> This assumes we already have a reference to the node at the desired position we want to delete. If we have to traverse the list to arrive at the deletion point, the operation would take $O(n)$ time.\n",
    "\n",
    "Suppose we want to delete `ListNode2`. Currently, our `head` points to `ListNode1`, and `head.next` points to `ListNode2`. We can update our `head.next` pointer to `ListNode3`, which can be accessed by chaining `next` pointers like `head.next.next`. This makes sense since `head.next` is `ListNode2`, and logically, `head.next.next` would be `ListNode3`."
   ]
  },
  {
   "cell_type": "code",
   "execution_count": 5,
   "id": "3a56c61b",
   "metadata": {},
   "outputs": [
    {
     "name": "stdout",
     "output_type": "stream",
     "text": [
      "1\n",
      "3\n"
     ]
    }
   ],
   "source": [
    "head = ln1\n",
    "print(head.val)  # Should print 1\n",
    "\n",
    "# delete ListNode2\n",
    "head.next = head.next.next\n",
    "print(head.next.val)  # Should print 3"
   ]
  },
  {
   "cell_type": "markdown",
   "id": "9c55ccce",
   "metadata": {},
   "source": [
    "**Before:** ListNode1 --> ListNode2 --> ListNode3 --> ListNode4\n",
    "\n",
    "**After:** ListNode1 --> ListNode3 --> ListNode4\n",
    "\n",
    "> It can be assumed that the memory occupied by `ListNode2` will be cleared via garbage collection in most languages. In other languages like C, you would have to manually free the memory.\n",
    "\n",
    "## Time Complexity\n",
    "| **operation** | **Big-O time complexity** | **note** |\n",
    "| --- | --- | --- |\n",
    "| access | $O(n)$ |  |\n",
    "| search | $O(n)$ |  |\n",
    "| insertion | $O(1)^*$ | assuming you already have a reference to the node at the desired position |\n",
    "| deletion | $O(1)^*$ | assuming you already have a reference to the node at the desired position |"
   ]
  },
  {
   "cell_type": "markdown",
   "id": "c0d46450",
   "metadata": {},
   "source": [
    "## Design Singly Linked List\n",
    "\n",
    "Design a [Singly Linked List](https://neetcode.io/courses/dsa-for-beginners/5) class.\n",
    "\n",
    "Your `LinkedList` class should support the following operations:\n",
    "\n",
    "- `LinkedList()` will initialize an empty linked list.\n",
    "- `int get(int i)` will return the value of the `ith` node (0-indexed). If the index is out of bounds, return `-1`.\n",
    "- `void insertHead(int val)` will insert a node with `val` at the head of the list.\n",
    "- `void insertTail(int val)` will insert a node with `val` at the tail of the list.\n",
    "- `bool remove(int i)` will remove the `ith` node (0-indexed). If the index is out of bounds, return `false`, otherwise return `true`.\n",
    "- `int[] getValues()` return an array of all the values in the linked list, ordered from head to tail."
   ]
  },
  {
   "cell_type": "code",
   "execution_count": 6,
   "id": "55c9523f",
   "metadata": {},
   "outputs": [],
   "source": [
    "class ListNode:\n",
    "    def __init__(self, val, next=None):\n",
    "        self.val = val\n",
    "        self.next = next\n",
    "\n",
    "\n",
    "class LinkedList:\n",
    "    def __init__(self):\n",
    "        self.head = ListNode(-1)\n",
    "        self.tail = self.head\n",
    "\n",
    "    def get(self, index: int) -> int:\n",
    "        curr = self.head.next\n",
    "        i = 0\n",
    "        while curr:\n",
    "            if i == index:\n",
    "                return curr.val\n",
    "            i += 1\n",
    "            curr = curr.next\n",
    "        return -1\n",
    "\n",
    "    def insertHead(self, val: int) -> None:\n",
    "        new_node = ListNode(val)\n",
    "        new_node.next = self.head.next\n",
    "        self.head.next = new_node\n",
    "        if not new_node.next:\n",
    "            self.tail = new_node\n",
    "\n",
    "    def insertTail(self, val: int) -> None:\n",
    "        self.tail.next = ListNode(val)\n",
    "        self.tail = self.tail.next\n",
    "\n",
    "    def remove(self, index: int) -> bool:\n",
    "        curr = self.head\n",
    "        i = 0\n",
    "        while i < index and curr:\n",
    "            i += 1\n",
    "            curr = curr.next\n",
    "\n",
    "        # remove the node head of curr\n",
    "        if curr and curr.next:\n",
    "            if curr.next == self.tail:\n",
    "                self.tail = curr\n",
    "            curr.next = curr.next.next\n",
    "            return True\n",
    "        return False\n",
    "\n",
    "    def getValues(self) -> list[int]:\n",
    "        curr = self.head.next\n",
    "        res = []\n",
    "        while curr:\n",
    "            res.append(curr.val)\n",
    "            curr = curr.next\n",
    "        return res"
   ]
  },
  {
   "cell_type": "code",
   "execution_count": 7,
   "id": "7c3c1cfb",
   "metadata": {},
   "outputs": [
    {
     "data": {
      "text/plain": [
       "[0, 2]"
      ]
     },
     "execution_count": 7,
     "metadata": {},
     "output_type": "execute_result"
    }
   ],
   "source": [
    "# example 1\n",
    "ll = LinkedList()\n",
    "ll.insertHead(1)\n",
    "ll.insertTail(2)\n",
    "ll.insertHead(0)\n",
    "ll.remove(1)\n",
    "ll.getValues()"
   ]
  },
  {
   "cell_type": "code",
   "execution_count": 8,
   "id": "2aa996c9",
   "metadata": {},
   "outputs": [
    {
     "data": {
      "text/plain": [
       "-1"
      ]
     },
     "execution_count": 8,
     "metadata": {},
     "output_type": "execute_result"
    }
   ],
   "source": [
    "# example 2\n",
    "ll2 = LinkedList()\n",
    "ll2.insertHead(1)\n",
    "ll2.insertHead(2)\n",
    "ll2.get(5)"
   ]
  },
  {
   "cell_type": "markdown",
   "id": "6d2ac9d5",
   "metadata": {},
   "source": [
    "# Doubly Linked Lists\n",
    "\n",
    "Having learned about singly linked lists, let’s next learn about its variation - the **Doubly Linked List**. As the name implies, each node now has two pointers. In addition to the `next` pointer, we have a `prev` pointer which points to the previous node. If the `prev` pointer points to `null`, it is an indication that we are at the head of the linked list.\n",
    "\n",
    "## Operations of a Doubly Linked Lists\n",
    "\n",
    "### Insertion End\n",
    "Similar to the singly linked list, adding a node to a doubly linked list will run in O(1)O(1) time. Only this time, we have to update the `prev` pointer as well.\n",
    "\n",
    "For example, if we have three nodes in our linked list, `ListNode1`, `ListNode2` and `ListNode3`. Now we have another node, `ListNode4`, that we wish to insert at the end. We will have to update both the `next` pointer of `ListNode3` and the `prev` pointer of `ListNode4`."
   ]
  },
  {
   "cell_type": "code",
   "execution_count": 9,
   "id": "a11e9227",
   "metadata": {},
   "outputs": [],
   "source": [
    "tail.next = ListNode\n",
    "ListNode.prev = tail\n",
    "tail = tail.next"
   ]
  },
  {
   "cell_type": "markdown",
   "id": "7768286f",
   "metadata": {},
   "source": [
    "### Deletion End\n",
    "Deleting at the end is also a O(1)O(1) operation.\n",
    "\n",
    "1. First we get a reference to the node before the tail.\n",
    "2. We update the `next` pointer of the node before the tail to `null`.\n",
    "3. We update the tail to be the node before the tail.\n",
    "4. (Optional) We can also update the `prev` pointer of the old tail to `null`."
   ]
  },
  {
   "cell_type": "code",
   "execution_count": 10,
   "id": "e23c10c7",
   "metadata": {},
   "outputs": [],
   "source": [
    "node2 = tail.prev\n",
    "node2.next = None\n",
    "tail = node2"
   ]
  },
  {
   "cell_type": "markdown",
   "id": "49885aca",
   "metadata": {},
   "source": [
    "> Since we can insert and remove from the end in $O(1)$ time, in theory, we could implement a stack with a linked list instead of an array. This is less common, but it is a possibility.\n",
    "\n",
    "### Access\n",
    "\n",
    "Similar to singly linked lists, we cannot randomly access a node. So in the worst case, we will have to traverse $n$ nodes before reaching the desired node. This would run in $O(n)$ time.\n",
    "\n",
    "Doubly linked lists have the benefit that we can traverse the list in both directions, as opposed to singly linked lists.\n",
    "\n",
    "## Time Complexity\n",
    "| **operation** | **Big-O time complexity** | **note** |\n",
    "| --- | --- | --- |\n",
    "| access | $O(n)$ |  |\n",
    "| search | $O(n)$ |  |\n",
    "| insertion | $O(1)^*$ | assuming you have the reference to the node at the desired position |\n",
    "| deletion | $O(1)^*$ | assuming you have the reference to the node at the desired position |"
   ]
  },
  {
   "cell_type": "code",
   "execution_count": 11,
   "id": "6e83b14a",
   "metadata": {},
   "outputs": [],
   "source": [
    "class ListNode:\n",
    "    def __init__(self, val):\n",
    "        self.val = val\n",
    "        self.next = None\n",
    "        self.prev = None\n",
    "\n",
    "\n",
    "# Implementation for Doubly Linked List\n",
    "class LinkedList:\n",
    "    def __init__(self):\n",
    "        # Init the list with 'dummy' head and tail nodes which makes\n",
    "        # edge cases for insert & remove easier.\n",
    "        self.head = ListNode(-1)\n",
    "        self.tail = ListNode(-1)\n",
    "        self.head.next = self.tail\n",
    "        self.tail.prev = self.head\n",
    "\n",
    "    def insertFront(self, val):\n",
    "        newNode = ListNode(val)\n",
    "        newNode.prev = self.head\n",
    "        newNode.next = self.head.next\n",
    "\n",
    "        self.head.next.prev = newNode\n",
    "        self.head.next = newNode\n",
    "\n",
    "    def insertEnd(self, val):\n",
    "        newNode = ListNode(val)\n",
    "        newNode.next = self.tail\n",
    "        newNode.prev = self.tail.prev\n",
    "\n",
    "        self.tail.prev.next = newNode\n",
    "        self.tail.prev = newNode\n",
    "\n",
    "    # Remove first node after dummy head (assume it exists)\n",
    "    def removeFront(self):\n",
    "        self.head.next.next.prev = self.head\n",
    "        self.head.next = self.head.next.next\n",
    "\n",
    "    # Remove last node before dummy tail (assume it exists)\n",
    "    def removeEnd(self):\n",
    "        self.tail.prev.prev.next = self.tail\n",
    "        self.tail.prev = self.tail.prev.prev\n",
    "\n",
    "    def print(self):\n",
    "        curr = self.head.next\n",
    "        while curr != self.tail:\n",
    "            print(curr.val, \"-> \", end=\"\")\n",
    "            curr = curr.next\n",
    "        print()"
   ]
  },
  {
   "cell_type": "code",
   "execution_count": 12,
   "id": "53f782fc",
   "metadata": {},
   "outputs": [
    {
     "name": "stdout",
     "output_type": "stream",
     "text": [
      "0 -> 1 -> 2 -> \n",
      "1 -> \n"
     ]
    }
   ],
   "source": [
    "# example 1\n",
    "ll = LinkedList()\n",
    "ll.insertFront(1)\n",
    "ll.insertEnd(2)\n",
    "ll.insertFront(0)\n",
    "ll.print()\n",
    "\n",
    "ll.removeFront()\n",
    "ll.removeEnd()\n",
    "ll.print()"
   ]
  },
  {
   "cell_type": "code",
   "execution_count": null,
   "id": "5ce366e0",
   "metadata": {},
   "outputs": [],
   "source": []
  }
 ],
 "metadata": {
  "kernelspec": {
   "display_name": ".venv",
   "language": "python",
   "name": "python3"
  },
  "language_info": {
   "codemirror_mode": {
    "name": "ipython",
    "version": 3
   },
   "file_extension": ".py",
   "mimetype": "text/x-python",
   "name": "python",
   "nbconvert_exporter": "python",
   "pygments_lexer": "ipython3",
   "version": "3.9.6"
  }
 },
 "nbformat": 4,
 "nbformat_minor": 5
}
