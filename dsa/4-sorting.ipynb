{
 "cells": [
  {
   "cell_type": "markdown",
   "id": "b177e516",
   "metadata": {},
   "source": [
    "# 4. Sorting\n",
    "\n",
    "## 4.1. Insertion Sorting\n",
    "\n",
    "Insertion sort is one of many sorting algorithms used to sort data in different data structures.\n",
    "\n",
    "Each sorting algorithm has its own advantages and disadvantages. Insertion sort is no exception. It is a simple algorithm that is easy to implement and understand. However, it is not the most efficient sorting algorithm when it comes to large data sets."
   ]
  },
  {
   "cell_type": "code",
   "execution_count": null,
   "id": "e23fed1f",
   "metadata": {},
   "outputs": [],
   "source": []
  },
  {
   "cell_type": "code",
   "execution_count": null,
   "id": "a4eec2d7",
   "metadata": {},
   "outputs": [],
   "source": []
  }
 ],
 "metadata": {
  "kernelspec": {
   "display_name": ".venv",
   "language": "python",
   "name": "python3"
  },
  "language_info": {
   "name": "python",
   "version": "3.11.6"
  }
 },
 "nbformat": 4,
 "nbformat_minor": 5
}
