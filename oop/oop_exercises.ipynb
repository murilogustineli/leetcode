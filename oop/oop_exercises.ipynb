{
 "cells": [
  {
   "cell_type": "markdown",
   "id": "da1a6626",
   "metadata": {},
   "source": [
    "# OOP exercises"
   ]
  },
  {
   "cell_type": "code",
   "execution_count": 1,
   "id": "fde4bc58",
   "metadata": {},
   "outputs": [
    {
     "name": "stdout",
     "output_type": "stream",
     "text": [
      "12000\n",
      "True\n",
      "0.3559322033898305\n"
     ]
    }
   ],
   "source": [
    "class BoundingBox2D:\n",
    "    def __init__(self, x_min, y_min, x_max, y_max):\n",
    "        self.x_min = x_min\n",
    "        self.y_min = y_min\n",
    "        self.x_max = x_max\n",
    "        self.y_max = y_max\n",
    "\n",
    "    def __repr__(self):\n",
    "        return f\"BoundingBox2D({self.x_min}, {self.y_min}, {self.x_max}, {self.y_max})\"\n",
    "\n",
    "    @property\n",
    "    def w(self):\n",
    "        return self.x_max - self.x_min\n",
    "\n",
    "    @property\n",
    "    def h(self):\n",
    "        return self.y_max - self.y_min\n",
    "\n",
    "    def area(self):\n",
    "        return self.w * self.h\n",
    "\n",
    "    def contains(self, nums: tuple):\n",
    "        x, y = nums\n",
    "        return (self.x_min <= x <= self.x_max) and (self.y_min <= y <= self.y_max)\n",
    "\n",
    "    def iou(self, other):\n",
    "        xi1 = max(self.x_min, other.x_min)\n",
    "        yi1 = max(self.y_min, other.y_min)\n",
    "        xi2 = min(self.x_max, other.x_max)\n",
    "        yi2 = min(self.y_max, other.y_max)\n",
    "        inter = max(0, xi2 - xi1) * max(0, yi2 - yi1)\n",
    "        union = self.area() + other.area() - inter\n",
    "        return inter / union if union else 0.0\n",
    "\n",
    "\n",
    "bbox = BoundingBox2D(x_min=10, y_min=20, x_max=110, y_max=140)\n",
    "print(bbox.area())\n",
    "print(bbox.contains((15, 20)))\n",
    "bbox2 = BoundingBox2D(x_min=40, y_min=-10, x_max=140, y_max=110)\n",
    "print(bbox.iou(bbox2))"
   ]
  },
  {
   "cell_type": "code",
   "execution_count": null,
   "id": "e99a5f25",
   "metadata": {},
   "outputs": [
    {
     "name": "stdout",
     "output_type": "stream",
     "text": [
      "iPhone\n",
      "apple\n"
     ]
    }
   ],
   "source": [
    "class Item:\n",
    "    def __init__(self, name: str, price: float, quantity: int, **kwargs):\n",
    "        self.name = name\n",
    "        self.price = price\n",
    "        self.quantity = quantity\n",
    "\n",
    "\n",
    "class Phone(Item):\n",
    "    def __init__(self, brand: str, **kwargs):\n",
    "        super().__init__(**kwargs)\n",
    "        self.brand = brand\n",
    "\n",
    "\n",
    "iphone = Phone(brand=\"apple\", name=\"iPhone\", price=1000, quantity=1)\n",
    "print(iphone.name)\n",
    "print(iphone.brand)"
   ]
  },
  {
   "cell_type": "code",
   "execution_count": null,
   "id": "4cefdd6c",
   "metadata": {},
   "outputs": [
    {
     "name": "stdout",
     "output_type": "stream",
     "text": [
      "0\n",
      "32.0\n",
      "100.0\n",
      "-40.0\n"
     ]
    }
   ],
   "source": [
    "class Temperature:\n",
    "    def __init__(self, temperature: float):\n",
    "        self._celsius = temperature\n",
    "\n",
    "    @property\n",
    "    def celsius(self):\n",
    "        return self._celsius\n",
    "\n",
    "    @celsius.setter\n",
    "    def celsius(self, value):\n",
    "        self._celsius = value\n",
    "\n",
    "    @property\n",
    "    def fahrenheit(self):\n",
    "        return (self._celsius * 9 / 5) + 32\n",
    "\n",
    "    @fahrenheit.setter\n",
    "    def fahrenheit(self, value):\n",
    "        self._celsius = (value - 32) * 5 / 9\n",
    "\n",
    "\n",
    "t = Temperature(0)\n",
    "print(t.celsius)\n",
    "print(t.fahrenheit)\n",
    "\n",
    "t.fahrenheit = 212\n",
    "print(t.celsius)  # 100.0\n",
    "\n",
    "t.celsius = -40\n",
    "print(t.fahrenheit)  # -40.0"
   ]
  },
  {
   "cell_type": "code",
   "execution_count": null,
   "id": "675b3e04",
   "metadata": {},
   "outputs": [
    {
     "name": "stdout",
     "output_type": "stream",
     "text": [
      "5\n",
      "10\n"
     ]
    }
   ],
   "source": [
    "class Circle:\n",
    "    def __init__(self, radius):\n",
    "        self._radius = radius\n",
    "\n",
    "    @property\n",
    "    def radius(self):\n",
    "        return self._radius\n",
    "\n",
    "    @radius.setter\n",
    "    def radius(self, value):\n",
    "        if value < 0:\n",
    "            raise ValueError(\"Radius must be non-negative\")\n",
    "        self._radius = value\n",
    "\n",
    "\n",
    "c = Circle(5)\n",
    "print(c.radius)\n",
    "c.radius = 10\n",
    "print(c.radius)"
   ]
  },
  {
   "cell_type": "code",
   "execution_count": null,
   "id": "fd20c744",
   "metadata": {},
   "outputs": [
    {
     "name": "stdout",
     "output_type": "stream",
     "text": [
      "Bob 3.5\n",
      "4.0\n"
     ]
    },
    {
     "ename": "ValueError",
     "evalue": "GPA must be between 0.0 and 4.0",
     "output_type": "error",
     "traceback": [
      "\u001b[0;31m---------------------------------------------------------------------------\u001b[0m\n",
      "\u001b[0;31mValueError\u001b[0m                                Traceback (most recent call last)\n",
      "Cell \u001b[0;32mIn[78], line 21\u001b[0m\n",
      "\u001b[1;32m     19\u001b[0m s\u001b[38;5;241m.\u001b[39mgpa \u001b[38;5;241m=\u001b[39m \u001b[38;5;241m4.0\u001b[39m\n",
      "\u001b[1;32m     20\u001b[0m \u001b[38;5;28mprint\u001b[39m(s\u001b[38;5;241m.\u001b[39mgpa)\n",
      "\u001b[0;32m---> 21\u001b[0m \u001b[43ms\u001b[49m\u001b[38;5;241;43m.\u001b[39;49m\u001b[43mgpa\u001b[49m \u001b[38;5;241m=\u001b[39m \u001b[38;5;241m-\u001b[39m\u001b[38;5;241m1\u001b[39m\n",
      "\u001b[1;32m     22\u001b[0m \u001b[38;5;28mprint\u001b[39m(s\u001b[38;5;241m.\u001b[39mgpa)\n",
      "\n",
      "Cell \u001b[0;32mIn[78], line 13\u001b[0m, in \u001b[0;36mStudent.gpa\u001b[0;34m(self, value)\u001b[0m\n",
      "\u001b[1;32m     10\u001b[0m \u001b[38;5;129m@gpa\u001b[39m\u001b[38;5;241m.\u001b[39msetter\n",
      "\u001b[1;32m     11\u001b[0m \u001b[38;5;28;01mdef\u001b[39;00m \u001b[38;5;21mgpa\u001b[39m(\u001b[38;5;28mself\u001b[39m, value):\n",
      "\u001b[1;32m     12\u001b[0m     \u001b[38;5;28;01mif\u001b[39;00m value \u001b[38;5;241m<\u001b[39m \u001b[38;5;241m0.0\u001b[39m \u001b[38;5;129;01mor\u001b[39;00m value \u001b[38;5;241m>\u001b[39m \u001b[38;5;241m4.0\u001b[39m:\n",
      "\u001b[0;32m---> 13\u001b[0m         \u001b[38;5;28;01mraise\u001b[39;00m \u001b[38;5;167;01mValueError\u001b[39;00m(\u001b[38;5;124m\"\u001b[39m\u001b[38;5;124mGPA must be between 0.0 and 4.0\u001b[39m\u001b[38;5;124m\"\u001b[39m)\n",
      "\u001b[1;32m     14\u001b[0m     \u001b[38;5;28mself\u001b[39m\u001b[38;5;241m.\u001b[39m_gpa \u001b[38;5;241m=\u001b[39m value\n",
      "\n",
      "\u001b[0;31mValueError\u001b[0m: GPA must be between 0.0 and 4.0"
     ]
    }
   ],
   "source": [
    "class Student:\n",
    "    def __init__(self, name: str, gpa: float):\n",
    "        self.name = name\n",
    "        self._gpa = gpa\n",
    "\n",
    "    @property\n",
    "    def gpa(self):\n",
    "        return self._gpa\n",
    "\n",
    "    @gpa.setter\n",
    "    def gpa(self, value):\n",
    "        if value < 0.0 or value > 4.0:\n",
    "            raise ValueError(\"GPA must be between 0.0 and 4.0\")\n",
    "        self._gpa = value\n",
    "\n",
    "\n",
    "s = Student(\"Bob\", 3.5)\n",
    "print(s.name, s.gpa)\n",
    "s.gpa = 4.0\n",
    "print(s.gpa)\n",
    "s.gpa = -1\n",
    "print(s.gpa)"
   ]
  },
  {
   "cell_type": "code",
   "execution_count": null,
   "id": "004dc707",
   "metadata": {},
   "outputs": [
    {
     "name": "stdout",
     "output_type": "stream",
     "text": [
      "The Pragmatic Programmer\n",
      "The Pragmatic Programmer: 20th Anniversary Edition\n"
     ]
    }
   ],
   "source": [
    "class Book:\n",
    "    def __init__(self, title, author, isbn):\n",
    "        self.title = title\n",
    "        self.author = author\n",
    "        self.isbn = isbn\n",
    "\n",
    "\n",
    "b = Book(\"The Pragmatic Programmer\", \"Andy Hunt\", \"978-0201616224\")\n",
    "print(b.title)\n",
    "\n",
    "b.title = \"The Pragmatic Programmer: 20th Anniversary Edition\"\n",
    "print(b.title)"
   ]
  },
  {
   "cell_type": "code",
   "execution_count": null,
   "id": "92bfbbd8",
   "metadata": {},
   "outputs": [],
   "source": []
  }
 ],
 "metadata": {
  "kernelspec": {
   "display_name": ".venv",
   "language": "python",
   "name": "python3"
  },
  "language_info": {
   "codemirror_mode": {
    "name": "ipython",
    "version": 3
   },
   "file_extension": ".py",
   "mimetype": "text/x-python",
   "name": "python",
   "nbconvert_exporter": "python",
   "pygments_lexer": "ipython3",
   "version": "3.9.6"
  }
 },
 "nbformat": 4,
 "nbformat_minor": 5
}
