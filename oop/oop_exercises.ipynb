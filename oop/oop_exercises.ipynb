{
 "cells": [
  {
   "cell_type": "markdown",
   "id": "da1a6626",
   "metadata": {},
   "source": [
    "# OOP exercises"
   ]
  },
  {
   "cell_type": "code",
   "execution_count": 1,
   "id": "fde4bc58",
   "metadata": {},
   "outputs": [
    {
     "name": "stdout",
     "output_type": "stream",
     "text": [
      "12000\n",
      "True\n",
      "0.3559322033898305\n"
     ]
    }
   ],
   "source": [
    "class BoundingBox2D:\n",
    "    def __init__(self, x_min, y_min, x_max, y_max):\n",
    "        self.x_min = x_min\n",
    "        self.y_min = y_min\n",
    "        self.x_max = x_max\n",
    "        self.y_max = y_max\n",
    "\n",
    "    def __repr__(self):\n",
    "        return f\"BoundingBox2D({self.x_min}, {self.y_min}, {self.x_max}, {self.y_max})\"\n",
    "\n",
    "    @property\n",
    "    def w(self):\n",
    "        return self.x_max - self.x_min\n",
    "\n",
    "    @property\n",
    "    def h(self):\n",
    "        return self.y_max - self.y_min\n",
    "\n",
    "    def area(self):\n",
    "        return self.w * self.h\n",
    "\n",
    "    def contains(self, nums: tuple):\n",
    "        x, y = nums\n",
    "        return (self.x_min <= x <= self.x_max) and (self.y_min <= y <= self.y_max)\n",
    "\n",
    "    def iou(self, other):\n",
    "        xi1 = max(self.x_min, other.x_min)\n",
    "        yi1 = max(self.y_min, other.y_min)\n",
    "        xi2 = min(self.x_max, other.x_max)\n",
    "        yi2 = min(self.y_max, other.y_max)\n",
    "        inter = max(0, xi2 - xi1) * max(0, yi2 - yi1)\n",
    "        union = self.area() + other.area() - inter\n",
    "        return inter / union if union else 0.0\n",
    "\n",
    "\n",
    "bbox = BoundingBox2D(x_min=10, y_min=20, x_max=110, y_max=140)\n",
    "print(bbox.area())\n",
    "print(bbox.contains((15, 20)))\n",
    "bbox2 = BoundingBox2D(x_min=40, y_min=-10, x_max=140, y_max=110)\n",
    "print(bbox.iou(bbox2))"
   ]
  },
  {
   "cell_type": "code",
   "execution_count": 2,
   "id": "e99a5f25",
   "metadata": {},
   "outputs": [
    {
     "name": "stdout",
     "output_type": "stream",
     "text": [
      "iPhone\n",
      "apple\n"
     ]
    }
   ],
   "source": [
    "class Item:\n",
    "    def __init__(self, name: str, price: float, quantity: int, **kwargs):\n",
    "        self.name = name\n",
    "        self.price = price\n",
    "        self.quantity = quantity\n",
    "\n",
    "\n",
    "class Phone(Item):\n",
    "    def __init__(self, brand: str, **kwargs):\n",
    "        super().__init__(**kwargs)\n",
    "        self.brand = brand\n",
    "\n",
    "\n",
    "iphone = Phone(brand=\"apple\", name=\"iPhone\", price=1000, quantity=1)\n",
    "print(iphone.name)\n",
    "print(iphone.brand)"
   ]
  },
  {
   "cell_type": "code",
   "execution_count": 3,
   "id": "4cefdd6c",
   "metadata": {},
   "outputs": [
    {
     "name": "stdout",
     "output_type": "stream",
     "text": [
      "0\n",
      "32.0\n",
      "100.0\n",
      "-40.0\n"
     ]
    }
   ],
   "source": [
    "class Temperature:\n",
    "    def __init__(self, temperature: float):\n",
    "        self._celsius = temperature\n",
    "\n",
    "    @property\n",
    "    def celsius(self):\n",
    "        return self._celsius\n",
    "\n",
    "    @celsius.setter\n",
    "    def celsius(self, value):\n",
    "        self._celsius = value\n",
    "\n",
    "    @property\n",
    "    def fahrenheit(self):\n",
    "        return (self._celsius * 9 / 5) + 32\n",
    "\n",
    "    @fahrenheit.setter\n",
    "    def fahrenheit(self, value):\n",
    "        self._celsius = (value - 32) * 5 / 9\n",
    "\n",
    "\n",
    "t = Temperature(0)\n",
    "print(t.celsius)\n",
    "print(t.fahrenheit)\n",
    "\n",
    "t.fahrenheit = 212\n",
    "print(t.celsius)  # 100.0\n",
    "\n",
    "t.celsius = -40\n",
    "print(t.fahrenheit)  # -40.0"
   ]
  },
  {
   "cell_type": "code",
   "execution_count": 4,
   "id": "675b3e04",
   "metadata": {},
   "outputs": [
    {
     "name": "stdout",
     "output_type": "stream",
     "text": [
      "5\n",
      "10\n"
     ]
    }
   ],
   "source": [
    "class Circle:\n",
    "    def __init__(self, radius):\n",
    "        self._radius = radius\n",
    "\n",
    "    @property\n",
    "    def radius(self):\n",
    "        return self._radius\n",
    "\n",
    "    @radius.setter\n",
    "    def radius(self, value):\n",
    "        if value < 0:\n",
    "            raise ValueError(\"Radius must be non-negative\")\n",
    "        self._radius = value\n",
    "\n",
    "\n",
    "c = Circle(5)\n",
    "print(c.radius)\n",
    "c.radius = 10\n",
    "print(c.radius)"
   ]
  },
  {
   "cell_type": "code",
   "execution_count": 5,
   "id": "fd20c744",
   "metadata": {},
   "outputs": [
    {
     "name": "stdout",
     "output_type": "stream",
     "text": [
      "Bob 3.5\n",
      "4.0\n"
     ]
    },
    {
     "ename": "ValueError",
     "evalue": "GPA must be between 0.0 and 4.0",
     "output_type": "error",
     "traceback": [
      "\u001b[0;31m---------------------------------------------------------------------------\u001b[0m",
      "\u001b[0;31mValueError\u001b[0m                                Traceback (most recent call last)",
      "Cell \u001b[0;32mIn[5], line 21\u001b[0m\n\u001b[1;32m     19\u001b[0m s\u001b[38;5;241m.\u001b[39mgpa \u001b[38;5;241m=\u001b[39m \u001b[38;5;241m4.0\u001b[39m\n\u001b[1;32m     20\u001b[0m \u001b[38;5;28mprint\u001b[39m(s\u001b[38;5;241m.\u001b[39mgpa)\n\u001b[0;32m---> 21\u001b[0m \u001b[43ms\u001b[49m\u001b[38;5;241;43m.\u001b[39;49m\u001b[43mgpa\u001b[49m \u001b[38;5;241m=\u001b[39m \u001b[38;5;241m-\u001b[39m\u001b[38;5;241m1\u001b[39m\n\u001b[1;32m     22\u001b[0m \u001b[38;5;28mprint\u001b[39m(s\u001b[38;5;241m.\u001b[39mgpa)\n",
      "Cell \u001b[0;32mIn[5], line 13\u001b[0m, in \u001b[0;36mStudent.gpa\u001b[0;34m(self, value)\u001b[0m\n\u001b[1;32m     10\u001b[0m \u001b[38;5;129m@gpa\u001b[39m\u001b[38;5;241m.\u001b[39msetter\n\u001b[1;32m     11\u001b[0m \u001b[38;5;28;01mdef\u001b[39;00m \u001b[38;5;21mgpa\u001b[39m(\u001b[38;5;28mself\u001b[39m, value):\n\u001b[1;32m     12\u001b[0m     \u001b[38;5;28;01mif\u001b[39;00m value \u001b[38;5;241m<\u001b[39m \u001b[38;5;241m0.0\u001b[39m \u001b[38;5;129;01mor\u001b[39;00m value \u001b[38;5;241m>\u001b[39m \u001b[38;5;241m4.0\u001b[39m:\n\u001b[0;32m---> 13\u001b[0m         \u001b[38;5;28;01mraise\u001b[39;00m \u001b[38;5;167;01mValueError\u001b[39;00m(\u001b[38;5;124m\"\u001b[39m\u001b[38;5;124mGPA must be between 0.0 and 4.0\u001b[39m\u001b[38;5;124m\"\u001b[39m)\n\u001b[1;32m     14\u001b[0m     \u001b[38;5;28mself\u001b[39m\u001b[38;5;241m.\u001b[39m_gpa \u001b[38;5;241m=\u001b[39m value\n",
      "\u001b[0;31mValueError\u001b[0m: GPA must be between 0.0 and 4.0"
     ]
    }
   ],
   "source": [
    "class Student:\n",
    "    def __init__(self, name: str, gpa: float):\n",
    "        self.name = name\n",
    "        self._gpa = gpa\n",
    "\n",
    "    @property\n",
    "    def gpa(self):\n",
    "        return self._gpa\n",
    "\n",
    "    @gpa.setter\n",
    "    def gpa(self, value):\n",
    "        if value < 0.0 or value > 4.0:\n",
    "            raise ValueError(\"GPA must be between 0.0 and 4.0\")\n",
    "        self._gpa = value\n",
    "\n",
    "\n",
    "s = Student(\"Bob\", 3.5)\n",
    "print(s.name, s.gpa)\n",
    "s.gpa = 4.0\n",
    "print(s.gpa)\n",
    "s.gpa = -1\n",
    "print(s.gpa)"
   ]
  },
  {
   "cell_type": "code",
   "execution_count": 6,
   "id": "004dc707",
   "metadata": {},
   "outputs": [
    {
     "name": "stdout",
     "output_type": "stream",
     "text": [
      "The Pragmatic Programmer\n",
      "The Pragmatic Programmer: 20th Anniversary Edition\n"
     ]
    }
   ],
   "source": [
    "class Book:\n",
    "    def __init__(self, title, author, isbn):\n",
    "        self.title = title\n",
    "        self.author = author\n",
    "        self.isbn = isbn\n",
    "\n",
    "\n",
    "b = Book(\"The Pragmatic Programmer\", \"Andy Hunt\", \"978-0201616224\")\n",
    "print(b.title)\n",
    "\n",
    "b.title = \"The Pragmatic Programmer: 20th Anniversary Edition\"\n",
    "print(b.title)"
   ]
  },
  {
   "cell_type": "code",
   "execution_count": 7,
   "id": "70a787dd",
   "metadata": {},
   "outputs": [
    {
     "name": "stdout",
     "output_type": "stream",
     "text": [
      "blue\n",
      "2\n",
      "3.1415\n"
     ]
    }
   ],
   "source": [
    "class Shape:\n",
    "    def __init__(self, color: str, **kwargs):\n",
    "        self.color = color\n",
    "        for key, val in kwargs.items():\n",
    "            setattr(self, key, val)\n",
    "\n",
    "\n",
    "class Circle(Shape):\n",
    "    def __init__(self, radius: float, **kwargs):\n",
    "        super().__init__(**kwargs)\n",
    "        self.radius = radius\n",
    "\n",
    "\n",
    "c = Circle(color=\"blue\", radius=2, pi=3.1415)\n",
    "print(c.color)\n",
    "print(c.radius)\n",
    "print(c.pi)"
   ]
  },
  {
   "cell_type": "code",
   "execution_count": 8,
   "id": "92bfbbd8",
   "metadata": {},
   "outputs": [
    {
     "name": "stdout",
     "output_type": "stream",
     "text": [
      "Alice drove a Car from (37.7749, -122.4194) to (37.8044, -122.2711) in 0.75 hrs.\n",
      "Rating: 5/5\n"
     ]
    }
   ],
   "source": [
    "# class hierarchy for a ride-sharing app\n",
    "# Vehicle, Car, Driver, Trip\n",
    "\n",
    "\n",
    "class Vehicle:\n",
    "    def __init__(self, vehicle_id, license_plate):\n",
    "        self.vehicle_id = vehicle_id\n",
    "        self.license_plate = license_plate\n",
    "\n",
    "    def get_vehicle_type(self) -> str:\n",
    "        return \"Generic vehicle\"\n",
    "\n",
    "\n",
    "class Car(Vehicle):\n",
    "    def __init__(self, vehicle_id, license_plate, brand, year):\n",
    "        super().__init__(vehicle_id, license_plate)\n",
    "        self.brand = brand\n",
    "        self.year = year\n",
    "\n",
    "    def get_vehicle_type(self):\n",
    "        return \"Car\"\n",
    "\n",
    "    def age(self, current_year: int) -> int:\n",
    "        return current_year - self.year\n",
    "\n",
    "\n",
    "class Driver:\n",
    "    def __init__(self, name, driver_id, license_number):\n",
    "        self.name = name\n",
    "        self.driver_id = driver_id\n",
    "        self.license_number = license_number\n",
    "\n",
    "    def __str__(self):\n",
    "        return f\"Driver {self.name} (ID: {self.driver_id})\"\n",
    "\n",
    "\n",
    "class Trip:\n",
    "    def __init__(\n",
    "        self,\n",
    "        driver: Driver,\n",
    "        vehicle: Vehicle,\n",
    "        trip_id: str,\n",
    "        start_time: float,\n",
    "        end_time: float,\n",
    "        start_location: tuple,\n",
    "        end_location: tuple,\n",
    "        rating: int,\n",
    "    ):\n",
    "        self.driver = driver\n",
    "        self.vehicle = vehicle\n",
    "        self.trip_id = trip_id\n",
    "        self.start_time = start_time\n",
    "        self.end_time = end_time\n",
    "        self.start_location = start_location\n",
    "        self.end_location = end_location\n",
    "        self.rating = rating\n",
    "\n",
    "    @property\n",
    "    def duration(self) -> float:\n",
    "        return self.end_time - self.start_time\n",
    "\n",
    "    def summary(self) -> str:\n",
    "        return (\n",
    "            f\"{self.driver.name} drove a {self.vehicle.get_vehicle_type()} \"\n",
    "            f\"from {self.start_location} to {self.end_location} in {self.duration} hrs.\"\n",
    "            f\"\\nRating: {self.rating}/5\"\n",
    "        )\n",
    "\n",
    "\n",
    "driver = Driver(name=\"Alice\", driver_id=\"D001\", license_number=\"XYZ123\")\n",
    "car = Car(vehicle_id=\"V001\", license_plate=\"ABC-1234\", brand=\"Toyota\", year=2020)\n",
    "\n",
    "trip = Trip(\n",
    "    trip_id=\"T001\",\n",
    "    driver=driver,\n",
    "    vehicle=car,\n",
    "    start_time=9.5,\n",
    "    end_time=10.25,\n",
    "    start_location=(37.7749, -122.4194),  # SF\n",
    "    end_location=(37.8044, -122.2711),  # Oakland\n",
    "    rating=5,\n",
    ")\n",
    "\n",
    "print(trip.summary())"
   ]
  },
  {
   "cell_type": "markdown",
   "id": "b8fec435",
   "metadata": {},
   "source": [
    "# 🎢 Roller Coaster Ranking System\n",
    "\n",
    "You're building a ranking system for roller coasters.\n",
    "\n",
    "Each roller coaster has the features `MaxSpeed`, `BumpsPerSecond`, and `LiftType`.\n",
    "\n",
    "The default comfort score is computed as:\n",
    "\n",
    "```\n",
    "DefaultComfortScore = min(1.0, 1.0 / bps)\n",
    "```\n",
    "\n",
    "The overall score for a roller coaster is calculated as:\n",
    "\n",
    "```\n",
    "OverallScore = scale_factor * comfort_score * max_speed\n",
    "```\n",
    "\n",
    "The scale factor depends on the type of roller coaster:\n",
    "\n",
    "```\n",
    "\"Wooden\": \n",
    "- scale factor is 1.0\n",
    "\n",
    "\"Steel\": \n",
    "- scale factor is 2.0\n",
    "- comfort score: min(1.0, 5.0 / MaxSpeed)\n",
    "\n",
    "\"Suspended\":\n",
    "- scale factor is 0.5\n",
    "- if lift type is \"Launched\": add 0.1 to the comfort score\n",
    "- if lift type is \"Cable\": add 0.5 to the comfort score\n",
    "```\n",
    "\n",
    "### Input Format\n",
    "\n",
    "You will receive a list of strings. Each string represents a roller coaster and has the following format:\n",
    "\n",
    "```\n",
    "\"<Type> <max_speed> <bps> <lift_type>\"\n",
    "```\n",
    "\n",
    "Example:\n",
    "\n",
    "```\n",
    "test_input = [\n",
    "    \"Wooden 4 2 Chain\",         # Expected output: 2.0\n",
    "    \"Steel 20 0 Cable\",         # Expected output: 10.0\n",
    "    \"Suspended 2 0.5 Cable\",    # Expected output: 1.5\n",
    "    \"Suspended 2 0.5 Chain\",    # Expected output: 1.0\n",
    "    \"Suspended 2 0.5 Launched\", # Expected output: 1.1\n",
    "]\n",
    "```\n",
    "\n",
    "### Your Task\n",
    "\n",
    "Write a program that:\n",
    "- Parses the input strings.\n",
    "- Computes and prints the overall_score for each roller coaster, rounded to 1 decimal place.\n",
    "\n",
    "You may structure your code however you like."
   ]
  },
  {
   "cell_type": "code",
   "execution_count": 9,
   "id": "39399b69",
   "metadata": {},
   "outputs": [],
   "source": [
    "class RollerCoaster:\n",
    "    def __init__(self, max_speed: float, bps: float, lift_type: str):\n",
    "        self.max_speed = max_speed\n",
    "        self.bps = bps\n",
    "        self.lift_type = lift_type\n",
    "        self.scale_factor = 0\n",
    "\n",
    "    @property\n",
    "    def comfort_score(self):\n",
    "        return min(1.0, 1.0 / self.bps)\n",
    "\n",
    "    def overall_score(self):\n",
    "        return self.scale_factor * self.comfort_score * self.max_speed\n",
    "\n",
    "\n",
    "class Wooden(RollerCoaster):\n",
    "    def __init__(self, type: str, max_speed: float, bps: float, lift_type: str):\n",
    "        super().__init__(max_speed, bps, lift_type)\n",
    "        self.type = type\n",
    "        self.scale_factor = 1.0\n",
    "\n",
    "\n",
    "class Steel(RollerCoaster):\n",
    "    def __init__(self, type: str, max_speed: float, bps: float, lift_type: str):\n",
    "        super().__init__(max_speed, bps, lift_type)\n",
    "        self.type = type\n",
    "        self.scale_factor = 2.0\n",
    "\n",
    "    @property\n",
    "    def comfort_score(self):\n",
    "        return min(1.0, 5.0 / self.max_speed)\n",
    "\n",
    "\n",
    "class Suspended(RollerCoaster):\n",
    "    def __init__(self, type: str, max_speed: float, bps: float, lift_type: str):\n",
    "        super().__init__(max_speed, bps, lift_type)\n",
    "        self.type = type\n",
    "        self.scale_factor = 0.5\n",
    "\n",
    "    @property\n",
    "    def comfort_score(self):\n",
    "        score = super().comfort_score\n",
    "        if self.lift_type.lower() == \"cable\":\n",
    "            score += 0.5\n",
    "        elif self.lift_type.lower() == \"launched\":\n",
    "            score += 0.1\n",
    "        return score"
   ]
  },
  {
   "cell_type": "code",
   "execution_count": 10,
   "id": "a31bb2e1",
   "metadata": {},
   "outputs": [
    {
     "name": "stdout",
     "output_type": "stream",
     "text": [
      "2.0\n",
      "10.0\n",
      "1.5\n",
      "1.0\n",
      "1.1\n"
     ]
    }
   ],
   "source": [
    "# tests\n",
    "test_input = [\n",
    "    \"Wooden 4 2 Chain\",  # Expected output: 2.0\n",
    "    \"Steel 20 0 Cable\",  # Expected output: 10.0\n",
    "    \"Suspended 2 0.5 Cable\",  # Expected output: 1.5\n",
    "    \"Suspended 2 0.5 Chain\",  # Expected output: 1.0\n",
    "    \"Suspended 2 0.5 Launched\",  # Expected output: 1.1\n",
    "]\n",
    "\n",
    "# create a hashmap to store the objects\n",
    "coaster_dict = {\n",
    "    \"Wooden\": Wooden,\n",
    "    \"Steel\": Steel,\n",
    "    \"Suspended\": Suspended,\n",
    "}\n",
    "\n",
    "for test in test_input:\n",
    "    test_split = test.split(\" \")\n",
    "    inst = coaster_dict[test_split[0]]\n",
    "    obj = inst(test_split[0], float(test_split[1]), float(test_split[2]), test_split[3])\n",
    "    print(obj.overall_score())"
   ]
  },
  {
   "cell_type": "code",
   "execution_count": null,
   "id": "6cab3df4",
   "metadata": {},
   "outputs": [],
   "source": []
  }
 ],
 "metadata": {
  "kernelspec": {
   "display_name": ".venv",
   "language": "python",
   "name": "python3"
  },
  "language_info": {
   "codemirror_mode": {
    "name": "ipython",
    "version": 3
   },
   "file_extension": ".py",
   "mimetype": "text/x-python",
   "name": "python",
   "nbconvert_exporter": "python",
   "pygments_lexer": "ipython3",
   "version": "3.9.6"
  }
 },
 "nbformat": 4,
 "nbformat_minor": 5
}
