{
 "cells": [
  {
   "cell_type": "markdown",
   "id": "8dc30187",
   "metadata": {},
   "source": [
    "# leetcode solutions"
   ]
  },
  {
   "cell_type": "code",
   "execution_count": 1,
   "id": "9074934f",
   "metadata": {},
   "outputs": [
    {
     "data": {
      "text/plain": [
       "True"
      ]
     },
     "execution_count": 1,
     "metadata": {},
     "output_type": "execute_result"
    }
   ],
   "source": [
    "# valid palindrome: easy\n",
    "# https://neetcode.io/problems/is-palindrome?list=neetcode150\n",
    "\n",
    "\n",
    "def isPalindrome(s: str) -> bool:\n",
    "    string = [let.lower() for let in s if let.isalnum()]\n",
    "    return string == string[::-1]\n",
    "\n",
    "\n",
    "s = \"Was it a car or a cat I saw?\"\n",
    "isPalindrome(s)"
   ]
  },
  {
   "cell_type": "code",
   "execution_count": 2,
   "id": "8927b676",
   "metadata": {},
   "outputs": [
    {
     "name": "stdout",
     "output_type": "stream",
     "text": [
      "[['act', 'cat'], ['pots', 'tops', 'stop'], ['hat']]\n"
     ]
    }
   ],
   "source": [
    "# group anagrams: medium\n",
    "# https://neetcode.io/problems/anagram-groups?list=neetcode150\n",
    "from collections import defaultdict\n",
    "\n",
    "\n",
    "def groupAnagrams(strs: list[str]) -> list[list[str]]:\n",
    "    # group into sublists\n",
    "    # sort each word, use as key in hashmap\n",
    "    group = defaultdict(list)\n",
    "    for word in strs:\n",
    "        sort_word = \"\".join(sorted(word))\n",
    "        group[sort_word].append(word)\n",
    "    return list(group.values())\n",
    "\n",
    "\n",
    "strs = [\"act\", \"pots\", \"tops\", \"cat\", \"stop\", \"hat\"]\n",
    "output = groupAnagrams(strs)\n",
    "print(output)"
   ]
  },
  {
   "cell_type": "code",
   "execution_count": 3,
   "id": "733321dd",
   "metadata": {},
   "outputs": [
    {
     "data": {
      "text/plain": [
       "6"
      ]
     },
     "execution_count": 3,
     "metadata": {},
     "output_type": "execute_result"
    }
   ],
   "source": [
    "# best time to buy and sell stock: easy\n",
    "# https://neetcode.io/problems/buy-and-sell-crypto?list=neetcode150\n",
    "\n",
    "\n",
    "def maxProfit(prices: list[int]) -> int:\n",
    "    min_buy = prices[0]\n",
    "    maxp = 0\n",
    "    for price in prices:\n",
    "        sell = price - min_buy\n",
    "        maxp = max(maxp, sell)\n",
    "        min_buy = min(price, min_buy)\n",
    "    return maxp\n",
    "\n",
    "\n",
    "prices = [10, 1, 5, 6, 7, 1]\n",
    "output = maxProfit(prices)\n",
    "output"
   ]
  },
  {
   "cell_type": "code",
   "execution_count": 4,
   "id": "9071df5d",
   "metadata": {},
   "outputs": [
    {
     "data": {
      "text/plain": [
       "[2, 10, 30]"
      ]
     },
     "execution_count": 4,
     "metadata": {},
     "output_type": "execute_result"
    }
   ],
   "source": [
    "# remove duplicates: easy\n",
    "# https://neetcode.io/problems/remove-duplicates-from-sorted-array?list=neetcode150\n",
    "\n",
    "\n",
    "def removeDuplicates(nums: list[int]) -> int:\n",
    "    left = 1\n",
    "    for right in range(1, len(nums)):\n",
    "        if nums[right] != nums[right - 1]:\n",
    "            nums[left] = nums[right]\n",
    "            left += 1\n",
    "    return left\n",
    "\n",
    "\n",
    "nums = [2, 10, 10, 30, 30, 30]\n",
    "index = removeDuplicates(nums)\n",
    "nums[:index]"
   ]
  },
  {
   "cell_type": "code",
   "execution_count": 5,
   "id": "ae9245fc",
   "metadata": {},
   "outputs": [
    {
     "data": {
      "text/plain": [
       "True"
      ]
     },
     "execution_count": 5,
     "metadata": {},
     "output_type": "execute_result"
    }
   ],
   "source": [
    "# valid anagram: easy\n",
    "# https://neetcode.io/problems/is-anagram?list=neetcode150\n",
    "\n",
    "\n",
    "def isAnagram(s: str, t: str) -> bool:\n",
    "    if len(s) != len(t):\n",
    "        return False\n",
    "\n",
    "    def count_letters(arr):\n",
    "        hashmap = {}\n",
    "        for let in arr:\n",
    "            hashmap[let] = 1 + hashmap.get(let, 0)\n",
    "        return hashmap\n",
    "\n",
    "    hash_s = count_letters(s)\n",
    "    hash_t = count_letters(t)\n",
    "\n",
    "    return hash_s == hash_t\n",
    "\n",
    "\n",
    "s = \"racecar\"\n",
    "t = \"carrace\"\n",
    "output = isAnagram(s, t)\n",
    "output"
   ]
  },
  {
   "cell_type": "code",
   "execution_count": null,
   "id": "d29e49b3",
   "metadata": {},
   "outputs": [],
   "source": []
  }
 ],
 "metadata": {
  "kernelspec": {
   "display_name": ".venv",
   "language": "python",
   "name": "python3"
  },
  "language_info": {
   "codemirror_mode": {
    "name": "ipython",
    "version": 3
   },
   "file_extension": ".py",
   "mimetype": "text/x-python",
   "name": "python",
   "nbconvert_exporter": "python",
   "pygments_lexer": "ipython3",
   "version": "3.9.6"
  }
 },
 "nbformat": 4,
 "nbformat_minor": 5
}
